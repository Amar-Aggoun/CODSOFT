{
 "cells": [
  {
   "cell_type": "code",
   "execution_count": null,
   "id": "53442534-0be3-433e-9a5c-f9473ce39b89",
   "metadata": {},
   "outputs": [],
   "source": []
  }
 ],
 "metadata": {
  "kernelspec": {
   "display_name": "",
   "name": ""
  },
  "language_info": {
   "name": ""
  }
 },
 "nbformat": 4,
 "nbformat_minor": 5
}
